{
 "cells": [
  {
   "cell_type": "markdown",
   "id": "rolled-milton",
   "metadata": {},
   "source": [
    "BACnet Device Scanning\n",
    "====================\n",
    "\n",
    "While direct BACnet discovery techniques are occasionally useful, it is more common to use the NF scan API to initiate and retrieve results from BACnet scans.  When the scan service is in use, the Scan service takes are of finding devices, downloading object lists, and inserting them into the database.  `NF::BACnet` comes with a powerful set of scan options to help you find the most stubborn BACnet devices on your network with only a few commands."
   ]
  },
  {
   "cell_type": "code",
   "execution_count": 1,
   "id": "potential-consistency",
   "metadata": {},
   "outputs": [],
   "source": [
    "import os\n",
    "import grpc\n",
    "from normalgw.bacnet import scan_pb2, scan_pb2_grpc, bacnet_pb2"
   ]
  },
  {
   "cell_type": "code",
   "execution_count": 2,
   "id": "scenic-pepper",
   "metadata": {},
   "outputs": [],
   "source": [
    "# the environment in docker-compose has the right address to connect to the BACnet service on.  \n",
    "# os.environ[\"SCAN_SERVICE_ADDRESS\"] =\"localhost:9091\"\n",
    "channel = grpc.insecure_channel(\"localhost:8080\")\n",
    "stub = scan_pb2_grpc.ScanStub(channel)"
   ]
  },
  {
   "cell_type": "code",
   "execution_count": 3,
   "id": "minimal-costa",
   "metadata": {},
   "outputs": [
    {
     "name": "stdout",
     "output_type": "stream",
     "text": [
      "id: 1\n",
      "status_message: \"Waiting to run\"\n",
      "timestamps {\n",
      "  queued_at {\n",
      "    seconds: 1630526950\n",
      "    nanos: 437863784\n",
      "  }\n",
      "}\n",
      "device {\n",
      "  targets {\n",
      "  }\n",
      "}\n",
      "\n"
     ]
    }
   ],
   "source": [
    "# basic discovery just uses a device discovery job\n",
    "job = scan_pb2.StartJobRequest()\n",
    "\n",
    "# add a target with defaults.  This does a global broadcast.  \n",
    "#  You can add custom whois targets here, for instance to \n",
    "# implement a series of range scans.  they are run sequentially.\n",
    "job.device.targets.extend([bacnet_pb2.WhoIsRequest()])\n",
    "\n",
    "# if set to true, this enqueues Object scan jobs for each \n",
    "# discovered device to download the object list.\n",
    "job.device.auto_scan = False\n",
    "# import the results into the db.  if you just want to see what has \n",
    "# changed not importing can be a good idea.  You can import later using ImportJob\n",
    "job.auto_import = False\n",
    "\n",
    "started_job = stub.StartJob(job)\n",
    "print(started_job)"
   ]
  },
  {
   "cell_type": "code",
   "execution_count": 5,
   "id": "floppy-consensus",
   "metadata": {},
   "outputs": [
    {
     "data": {
      "text/plain": [
       "results {\n",
       "  id: 1\n",
       "  status: DONE\n",
       "  status_message: \"Device Scan Completed\"\n",
       "  timestamps {\n",
       "    queued_at {\n",
       "      seconds: 1630526950\n",
       "      nanos: 437863784\n",
       "    }\n",
       "    run_at {\n",
       "      seconds: 1630526950\n",
       "      nanos: 439861662\n",
       "    }\n",
       "    finished_at {\n",
       "      seconds: 1630526962\n",
       "      nanos: 386042735\n",
       "    }\n",
       "  }\n",
       "  device {\n",
       "    targets {\n",
       "      options {\n",
       "        timeout: 1800.0\n",
       "        priority: 10\n",
       "        block_lower_priority: true\n",
       "      }\n",
       "    }\n",
       "  }\n",
       "  device_result {\n",
       "    device_address {\n",
       "      mac: \"\\300\\250g\\200\\272\\300\"\n",
       "      max_apdu: 1476\n",
       "      device_id: 150\n",
       "    }\n",
       "  }\n",
       "  device_result {\n",
       "    device_address {\n",
       "      mac: \"\\300\\250g\\222\\272\\300\"\n",
       "      max_apdu: 1476\n",
       "      device_id: 260001\n",
       "    }\n",
       "    scanned_props {\n",
       "      key: 12\n",
       "      value {\n",
       "        character_string: \"0.9\"\n",
       "      }\n",
       "    }\n",
       "    scanned_props {\n",
       "      key: 28\n",
       "      value {\n",
       "        character_string: \"NF Stack\"\n",
       "      }\n",
       "    }\n",
       "    scanned_props {\n",
       "      key: 44\n",
       "      value {\n",
       "        character_string: \"1.0.0\"\n",
       "      }\n",
       "    }\n",
       "    scanned_props {\n",
       "      key: 77\n",
       "      value {\n",
       "        character_string: \"Normal Framework\"\n",
       "      }\n",
       "    }\n",
       "    scanned_props {\n",
       "      key: 120\n",
       "      value {\n",
       "        unsigned: 0\n",
       "      }\n",
       "    }\n",
       "    scanned_props {\n",
       "      key: 121\n",
       "      value {\n",
       "        character_string: \"Normal Software, Inc.\"\n",
       "      }\n",
       "    }\n",
       "  }\n",
       "  object_count {\n",
       "    key: 8\n",
       "    value: 2\n",
       "  }\n",
       "}\n",
       "total_count: 1"
      ]
     },
     "execution_count": 5,
     "metadata": {},
     "output_type": "execute_result"
    }
   ],
   "source": [
    "# get the results of the jobs.  you have to send full=True to get the full object list\n",
    "stub.GetJobs(scan_pb2.GetJobRequest(id_filter=started_job.id, full=True))"
   ]
  },
  {
   "cell_type": "code",
   "execution_count": null,
   "id": "metric-diabetes",
   "metadata": {},
   "outputs": [],
   "source": [
    "job = scan_pb2.StartJobRequest()\n",
    "\n",
    "# you can do a network scan.  this uses a more complicated algorithm \n",
    "# to find devices hidden behind routers on other subnets, that don't\n",
    "# reply to Who-Is requests, or running on non-standard ports.\n",
    "\n",
    "# you can provide a CIDR subnet here.  If you provide 0.0.0.0 as the \n",
    "# network number, the local network is used.\n",
    "job.network.subnet = '0.0.0.0/24'\n",
    "\n",
    "# scan multiple ports or ranges of ports to find devices not on the expected port.\n",
    "job.network.ports = '47808'\n",
    "job.network.auto_scan = True\n",
    "\n",
    "started_job = stub.StartJob(job)\n",
    "print(started_job)"
   ]
  }
 ],
 "metadata": {
  "kernelspec": {
   "display_name": "Python 3 (ipykernel)",
   "language": "python",
   "name": "python3"
  },
  "language_info": {
   "codemirror_mode": {
    "name": "ipython",
    "version": 3
   },
   "file_extension": ".py",
   "mimetype": "text/x-python",
   "name": "python",
   "nbconvert_exporter": "python",
   "pygments_lexer": "ipython3",
   "version": "3.9.5"
  }
 },
 "nbformat": 4,
 "nbformat_minor": 5
}
