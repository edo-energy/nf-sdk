{
 "cells": [
  {
   "cell_type": "markdown",
   "id": "individual-damages",
   "metadata": {},
   "source": [
    "Welcome to NormalFramework:BACnet\n",
    "===============================\n",
    "\n",
    "We hope you enjoy your time here.  \n",
    "\n",
    "Because NF is made up a set of gRPC services, you can interact with these services directly and not just through the UI.  We have prepared this set of notebooks to provide some examples of common tasks you can accomplish using Jupyter.\n",
    "\n",
    "This notebook is the first of a few notebooks showing how you can interact with a BACnet network via gRPC to find and read devices.\n",
    "\n",
    "\n",
    "Prerequisites\n",
    "---------------\n",
    "\n",
    "If you are trying to follow this guide, you should have NF:BACnet running somewhere it has a BACnet device to talk to.  A simulated device is fine for testing; you can use the `stevedh/bactools` docker image which has a prebuilt copy of bacnet-stack, which includes a server.  \n",
    "\n",
    "Getting Started\n",
    "------------------\n",
    "\n",
    "This notebook can be run top to bottom; I've included lots of comments as well as markdown sections explaining each section.\n"
   ]
  },
  {
   "cell_type": "markdown",
   "id": "powerful-steel",
   "metadata": {},
   "source": [
    "Making the connection\n",
    "=======\n",
    "\n",
    "Since we're going to interact over gRPC, you need to import the compilied protobuf files.  Since you're in Jupyter, those are already installed.  If you want to run this from a command-line script, you'll have to get these from our Pypi page."
   ]
  },
  {
   "cell_type": "code",
   "execution_count": 1,
   "id": "noted-actress",
   "metadata": {},
   "outputs": [],
   "source": [
    "import os\n",
    "import grpc\n",
    "# bacnet_pb2 contains the message types, while bacnet_pb2_grpc has the RPC stubs\n",
    "from normalgw.bacnet import bacnet_pb2, bacnet_pb2_grpc, bacenum_pb2"
   ]
  },
  {
   "cell_type": "code",
   "execution_count": 2,
   "id": "liberal-velvet",
   "metadata": {},
   "outputs": [],
   "source": [
    "# the environment in docker-compose has the right address to connect to the BACnet service on.  \n",
    "channel = grpc.insecure_channel('localhost:8080')\n",
    "stub = bacnet_pb2_grpc.BacnetStub(channel)\n"
   ]
  },
  {
   "cell_type": "markdown",
   "id": "simplified-detective",
   "metadata": {},
   "source": [
    "Configuring BACnet Settings\n",
    "========================\n",
    "\n",
    "You might need to configure BACnet settings in order to communicate; for instance, changing the interface in use or the default port number; or register as a foreign device.  `NF:BACnet` exports a configuration API."
   ]
  },
  {
   "cell_type": "code",
   "execution_count": 3,
   "id": "graphic-qualification",
   "metadata": {},
   "outputs": [
    {
     "data": {
      "text/plain": [
       "local_ifname: \"enp1s0\"\n",
       "local_if_address: \"192.168.103.185\"\n",
       "local_bcast_address: \"192.168.103.255\"\n",
       "available_interfaces {\n",
       "  name: \"lo\"\n",
       "  addresses: \"127.0.0.1/8\"\n",
       "}\n",
       "available_interfaces {\n",
       "  name: \"enp1s0\"\n",
       "  addresses: \"192.168.103.185/24\"\n",
       "}\n",
       "available_interfaces {\n",
       "  name: \"tailscale0\"\n",
       "  addresses: \"100.73.103.16/32\"\n",
       "}\n",
       "available_interfaces {\n",
       "  name: \"lxdbr0\"\n",
       "  addresses: \"10.119.241.1/24\"\n",
       "}\n",
       "available_interfaces {\n",
       "  name: \"edibr0\"\n",
       "  addresses: \"10.75.94.1/24\"\n",
       "}\n",
       "available_interfaces {\n",
       "  name: \"br-3649c2ade53e\"\n",
       "  addresses: \"172.20.0.1/16\"\n",
       "}\n",
       "available_interfaces {\n",
       "  name: \"br-9c3da1b6ef22\"\n",
       "  addresses: \"172.19.0.1/16\"\n",
       "}\n",
       "available_interfaces {\n",
       "  name: \"docker0\"\n",
       "  addresses: \"172.17.0.1/16\"\n",
       "}\n",
       "available_interfaces {\n",
       "  name: \"br-640772e2395b\"\n",
       "  addresses: \"172.18.0.1/16\"\n",
       "}\n",
       "port: 47808\n",
       "device_instance: 10\n",
       "device_name: \"NF\""
      ]
     },
     "execution_count": 3,
     "metadata": {},
     "output_type": "execute_result"
    }
   ],
   "source": [
    "# create a stub for the configuration service.  \n",
    "# It can use the same channel as the BACnet service.\n",
    "config = bacnet_pb2_grpc.ConfigurationStub(channel)\n",
    "# this will print out the full configuration.  it includes the\n",
    "# local interface in use, BACnet port, other available interfaces,\n",
    "# and settings for the local device object.\n",
    "config.GetConfiguration(bacnet_pb2.GetConfigurationRequest())\n",
    "\n",
    "# some of these can be updated using SetConfiguration: \n",
    "#   local_ifname, port, bbmd_address, bbmd_port, bbmd_ttl, \n",
    "#   device_instance, device_name"
   ]
  },
  {
   "cell_type": "markdown",
   "id": "photographic-breath",
   "metadata": {},
   "source": [
    "Discovering Devices\n",
    "================\n",
    "\n",
    "The first thing you'll generally want to do is to find a device to talk to.  The BacnetStub service has methods for sending WhoIs, which requires a WhoIsRequest argument.  Generally, all gRPC methods take one request argument, and return one reply.  \n",
    "\n",
    "To make things a little more complicated, the WhoIs method returns a stream response.  This is because it is a BACnet \"unconfirmed\" service, and so there is no way to tell when the request is \"done\".  In `NF:BACnet`, the default will return all I-Am messages for three seconds and then close the channel; we'll show you how to change this in a minute.\n",
    "\n",
    "If you are running the bacnet-stack simulator, you should see one device with Device ID 260001 in response to your Who-Is.  The Jupyter cell should execute for three seconds and then return."
   ]
  },
  {
   "cell_type": "code",
   "execution_count": null,
   "id": "parental-parcel",
   "metadata": {},
   "outputs": [],
   "source": [
    "for response in stub.WhoIs(bacnet_pb2.WhoIsRequest(low_limit=0xffffffff, high_limit=0xffffffff, options={'timeout':3})):\n",
    "    print (response)"
   ]
  },
  {
   "cell_type": "code",
   "execution_count": 4,
   "id": "owned-rubber",
   "metadata": {},
   "outputs": [
    {
     "name": "stdout",
     "output_type": "stream",
     "text": [
      "device_address {\n",
      "  mac: \"\\300\\250g\\222\\272\\300\"\n",
      "  max_apdu: 1476\n",
      "  device_id: 260001\n",
      "}\n",
      "\n"
     ]
    },
    {
     "ename": "_MultiThreadedRendezvous",
     "evalue": "<_MultiThreadedRendezvous of RPC that terminated with:\n\tstatus = StatusCode.INTERNAL\n\tdetails = \"Received RST_STREAM with error code 0\"\n\tdebug_error_string = \"{\"created\":\"@1630526809.462763580\",\"description\":\"Error received from peer ipv4:127.0.0.1:8080\",\"file\":\"src/core/lib/surface/call.cc\",\"file_line\":1069,\"grpc_message\":\"Received RST_STREAM with error code 0\",\"grpc_status\":13}\"\n>",
     "output_type": "error",
     "traceback": [
      "\u001b[0;31m---------------------------------------------------------------------------\u001b[0m",
      "\u001b[0;31m_MultiThreadedRendezvous\u001b[0m                  Traceback (most recent call last)",
      "\u001b[0;32m/tmp/ipykernel_4109350/173758612.py\u001b[0m in \u001b[0;36m<module>\u001b[0;34m\u001b[0m\n\u001b[1;32m      4\u001b[0m \u001b[0;31m# prevent broadcast storms.\u001b[0m\u001b[0;34m\u001b[0m\u001b[0;34m\u001b[0m\u001b[0;34m\u001b[0m\u001b[0m\n\u001b[1;32m      5\u001b[0m \u001b[0mrequest\u001b[0m \u001b[0;34m=\u001b[0m \u001b[0mbacnet_pb2\u001b[0m\u001b[0;34m.\u001b[0m\u001b[0mWhoIsRequest\u001b[0m\u001b[0;34m(\u001b[0m\u001b[0mlow_limit\u001b[0m\u001b[0;34m=\u001b[0m\u001b[0;36m260001\u001b[0m\u001b[0;34m,\u001b[0m \u001b[0mhigh_limit\u001b[0m\u001b[0;34m=\u001b[0m\u001b[0;36m260001\u001b[0m\u001b[0;34m,\u001b[0m \u001b[0moptions\u001b[0m\u001b[0;34m=\u001b[0m\u001b[0;34m{\u001b[0m\u001b[0;34m'block_lower_priority'\u001b[0m\u001b[0;34m:\u001b[0m\u001b[0;32mTrue\u001b[0m\u001b[0;34m}\u001b[0m\u001b[0;34m)\u001b[0m\u001b[0;34m\u001b[0m\u001b[0;34m\u001b[0m\u001b[0m\n\u001b[0;32m----> 6\u001b[0;31m \u001b[0;32mfor\u001b[0m \u001b[0mresponse\u001b[0m \u001b[0;32min\u001b[0m \u001b[0mstub\u001b[0m\u001b[0;34m.\u001b[0m\u001b[0mWhoIs\u001b[0m\u001b[0;34m(\u001b[0m\u001b[0mrequest\u001b[0m\u001b[0;34m)\u001b[0m\u001b[0;34m:\u001b[0m\u001b[0;34m\u001b[0m\u001b[0;34m\u001b[0m\u001b[0m\n\u001b[0m\u001b[1;32m      7\u001b[0m     \u001b[0mprint\u001b[0m \u001b[0;34m(\u001b[0m\u001b[0mresponse\u001b[0m\u001b[0;34m)\u001b[0m\u001b[0;34m\u001b[0m\u001b[0;34m\u001b[0m\u001b[0m\n",
      "\u001b[0;32m~/src/git/nf-sdk/examples/jupyter/venv/lib/python3.9/site-packages/grpc/_channel.py\u001b[0m in \u001b[0;36m__next__\u001b[0;34m(self)\u001b[0m\n\u001b[1;32m    424\u001b[0m \u001b[0;34m\u001b[0m\u001b[0m\n\u001b[1;32m    425\u001b[0m     \u001b[0;32mdef\u001b[0m \u001b[0m__next__\u001b[0m\u001b[0;34m(\u001b[0m\u001b[0mself\u001b[0m\u001b[0;34m)\u001b[0m\u001b[0;34m:\u001b[0m\u001b[0;34m\u001b[0m\u001b[0;34m\u001b[0m\u001b[0m\n\u001b[0;32m--> 426\u001b[0;31m         \u001b[0;32mreturn\u001b[0m \u001b[0mself\u001b[0m\u001b[0;34m.\u001b[0m\u001b[0m_next\u001b[0m\u001b[0;34m(\u001b[0m\u001b[0;34m)\u001b[0m\u001b[0;34m\u001b[0m\u001b[0;34m\u001b[0m\u001b[0m\n\u001b[0m\u001b[1;32m    427\u001b[0m \u001b[0;34m\u001b[0m\u001b[0m\n\u001b[1;32m    428\u001b[0m     \u001b[0;32mdef\u001b[0m \u001b[0m_next\u001b[0m\u001b[0;34m(\u001b[0m\u001b[0mself\u001b[0m\u001b[0;34m)\u001b[0m\u001b[0;34m:\u001b[0m\u001b[0;34m\u001b[0m\u001b[0;34m\u001b[0m\u001b[0m\n",
      "\u001b[0;32m~/src/git/nf-sdk/examples/jupyter/venv/lib/python3.9/site-packages/grpc/_channel.py\u001b[0m in \u001b[0;36m_next\u001b[0;34m(self)\u001b[0m\n\u001b[1;32m    824\u001b[0m                     \u001b[0;32mraise\u001b[0m \u001b[0mStopIteration\u001b[0m\u001b[0;34m(\u001b[0m\u001b[0;34m)\u001b[0m\u001b[0;34m\u001b[0m\u001b[0;34m\u001b[0m\u001b[0m\n\u001b[1;32m    825\u001b[0m                 \u001b[0;32melif\u001b[0m \u001b[0mself\u001b[0m\u001b[0;34m.\u001b[0m\u001b[0m_state\u001b[0m\u001b[0;34m.\u001b[0m\u001b[0mcode\u001b[0m \u001b[0;32mis\u001b[0m \u001b[0;32mnot\u001b[0m \u001b[0;32mNone\u001b[0m\u001b[0;34m:\u001b[0m\u001b[0;34m\u001b[0m\u001b[0;34m\u001b[0m\u001b[0m\n\u001b[0;32m--> 826\u001b[0;31m                     \u001b[0;32mraise\u001b[0m \u001b[0mself\u001b[0m\u001b[0;34m\u001b[0m\u001b[0;34m\u001b[0m\u001b[0m\n\u001b[0m\u001b[1;32m    827\u001b[0m \u001b[0;34m\u001b[0m\u001b[0m\n\u001b[1;32m    828\u001b[0m \u001b[0;34m\u001b[0m\u001b[0m\n",
      "\u001b[0;31m_MultiThreadedRendezvous\u001b[0m: <_MultiThreadedRendezvous of RPC that terminated with:\n\tstatus = StatusCode.INTERNAL\n\tdetails = \"Received RST_STREAM with error code 0\"\n\tdebug_error_string = \"{\"created\":\"@1630526809.462763580\",\"description\":\"Error received from peer ipv4:127.0.0.1:8080\",\"file\":\"src/core/lib/surface/call.cc\",\"file_line\":1069,\"grpc_message\":\"Received RST_STREAM with error code 0\",\"grpc_status\":13}\"\n>"
     ]
    }
   ],
   "source": [
    "# you might want to target only a specific range of devices.  \n",
    "# This can be useful for large networks, where you want to \n",
    "# block-scan only a portion of the ID space at a time to \n",
    "# prevent broadcast storms.\n",
    "request = bacnet_pb2.WhoIsRequest(low_limit=260001, high_limit=260001, options={'block_lower_priority':True})\n",
    "for response in stub.WhoIs(request):\n",
    "    print (response)"
   ]
  },
  {
   "cell_type": "code",
   "execution_count": null,
   "id": "proper-closing",
   "metadata": {},
   "outputs": [],
   "source": [
    "# many operations can take an OperationOptions to control the request processing.\n",
    "# for instance, you may want a faster timeout if you are on a faster network.\n",
    "request = bacnet_pb2.WhoIsRequest(options=bacnet_pb2.OperationOptions(timeout=.5))\n",
    "for response in stub.WhoIs(request):\n",
    "    print (response)"
   ]
  },
  {
   "cell_type": "code",
   "execution_count": null,
   "id": "agreed-gospel",
   "metadata": {},
   "outputs": [],
   "source": [
    "# another useful skill is to send a unicast Who-Is.  You can use this \n",
    "# to implement range-scanning if NF:BACnet's broadcasts can't reach the \n",
    "# BACnet network.\n",
    "#\n",
    "# for this example to work, you probably need to edit this code to \n",
    "# contain the real IP of a BACnet device.\n",
    "request = bacnet_pb2.WhoIsRequest(\n",
    "    target=bacnet_pb2.DeviceAddress(\n",
    "        # the MAC is the BACnet MAC -- a bytes array\n",
    "        # since we are using BACnet/IP (Annex J) this is always \n",
    "        # a six-element array of IPv4 address + port number\n",
    "        mac=bytes([192, 168, 103, 146, 0xBA, 0xC0]),\n",
    "        \n",
    "        # adr and net may be useful if you are trying to get a\n",
    "        # router to forward your packet; but you'll need to fill \n",
    "        # these in\n",
    "        adr=bytes([]),\n",
    "        net=0,\n",
    "        max_apdu=1496,\n",
    "    )\n",
    ")\n",
    "for response in stub.WhoIs(request):\n",
    "    print (response)"
   ]
  },
  {
   "cell_type": "markdown",
   "id": "israeli-encoding",
   "metadata": {},
   "source": [
    "Reading From Devices (for Discovery)\n",
    "==================\n",
    "\n",
    "Once you have found a device (or before you have too) you probably want to use find out some details about the devices on your BACnetwork.  The BACnet service exports both ReadProperty and ReadPropMultiple services for reading from devices.\n",
    "\n",
    "While generally, `NF:BACnet` exports BACnet semantics directly into gRPC, ReadPropMultiple has some differences which usually make it easier to write reliable software since vendors' support for ReadPropertyMultiple varies.  This includes:\n",
    "1. If a response is too large, it will be broken into smaller requests.  Although NF:BACnet does not use segementation, this means that practically you can make as large a ReadPropMultiple request as you like.\n",
    "1. If an Abort indicating ReadPropertyMultiple is not supported is received, NF:BACnet will retry using ReadProperty.  This can be quite slow."
   ]
  },
  {
   "cell_type": "code",
   "execution_count": null,
   "id": "illegal-ridge",
   "metadata": {},
   "outputs": [],
   "source": [
    "# We first need to get a DeviceAddress to talk to. \n",
    "# Usually these are saved from one of your WhoIs \n",
    "# requests, in this example I will use \"dynamic binding\" \n",
    "# to ask NF:BACnet to look it up during the request.\n",
    "target_id = 260001\n",
    "request = bacnet_pb2.ReadPropertyRequest(\n",
    "    # by only filling in the device_id, we request dynamic \n",
    "    # binding -- the stack will do a Who-Is on your behalf \n",
    "    # and cache the result\n",
    "    device_address=bacnet_pb2.DeviceAddress(device_id=target_id),\n",
    "    # try to read the Device Name\n",
    "    object_id=bacnet_pb2.ObjectId(object_type=bacenum_pb2.OBJECT_DEVICE, instance=target_id),\n",
    "    property_id=bacenum_pb2.PROP_OBJECT_NAME,\n",
    "    # have to send BACNET Array All since name is not an array.\n",
    "    array_index=0xffffffff\n",
    ")\n",
    "\n",
    "# execute the request\n",
    "# if this works for you, the response type is nearly the same as \n",
    "# for ReadPropMultiple to simplify processing\n",
    "# note that the return type of Value (ApplicationDataValue) can be a little clunky;\n",
    "# however it returns the BACnet type information\n",
    "reply = stub.ReadProperty(request)\n",
    "print (reply)\n",
    "print (\"Device name:\", reply.value.character_string)"
   ]
  },
  {
   "cell_type": "code",
   "execution_count": null,
   "id": "sophisticated-convert",
   "metadata": {},
   "outputs": [],
   "source": [
    "# Read the object list in one request.\n",
    "# \n",
    "# One downside of this approach is it will fail on \n",
    "# devices with large object lists since segemntation is not supported\n",
    "# For those, use ReadPropMultiple with one read for each index -\n",
    "# it works just as well.\n",
    "target_id = 260001\n",
    "request = bacnet_pb2.ReadPropertyRequest(\n",
    "    # by only filling in the device_id, we request dynamic \n",
    "    # binding -- the stack will do a Who-Is on your behalf \n",
    "    # and cache the result\n",
    "    device_address=bacnet_pb2.DeviceAddress(device_id=target_id),\n",
    "    # try to read the Device Name\n",
    "    object_id=bacnet_pb2.ObjectId(object_type=bacenum_pb2.OBJECT_DEVICE, instance=target_id),\n",
    "    property_id=bacenum_pb2.PROP_OBJECT_LIST,\n",
    "    # have to send BACNET Array All since name is not an array.\n",
    "    array_index=0xffffffff\n",
    ")\n",
    "reply = stub.ReadProperty(request)\n",
    "\n",
    "# the reply here is an array value, where each element is ObjectId type.\n",
    "# since gRPC treats zero as the blank value, Analog Input \n",
    "# objects don't have their names pretty printed; but they are there.\n",
    "for prop in reply.value.array:\n",
    "    print (prop.object_id)"
   ]
  },
  {
   "cell_type": "code",
   "execution_count": null,
   "id": "alleged-square",
   "metadata": {},
   "outputs": [],
   "source": [
    "# finally, you might want to check if a particular IP/port combo is running BACnet\n",
    "# using the wildcard BACnet ID.\n",
    "# N.B.: this can start to trigger IDS alerts if you use this too aggressively.\n",
    "# https://nmap.org/nsedoc/scripts/bacnet-info.html\n",
    "\n",
    "# edit these for your network.\n",
    "target_ip = [192, 168, 103, 146]\n",
    "target_port = 47808 # standard BACnet port\n",
    "\n",
    "target_id = 4194303 # wildcard device id.  added in 135-2001a; most devices support.\n",
    "\n",
    "# construct the request\n",
    "request = bacnet_pb2.ReadPropertyRequest(\n",
    "    # this time only fill in the \"mac\"\n",
    "    device_address=bacnet_pb2.DeviceAddress(\n",
    "        mac=bytes(target_ip + [(target_port >> 8) & 0xff, target_port & 0xff]),\n",
    "        max_apdu=1496\n",
    "    ),\n",
    "    # try to read the Device object's Object Identifier\n",
    "    object_id=bacnet_pb2.ObjectId(object_type=bacenum_pb2.OBJECT_DEVICE, instance=target_id),\n",
    "    property_id=bacenum_pb2.PROP_OBJECT_IDENTIFIER,\n",
    "    # have to send BACNET Array All since name is not an array.\n",
    "    array_index=0xffffffff\n",
    ")\n",
    "reply = stub.ReadProperty(request)\n",
    "print (reply)\n",
    "\n",
    "# if this works, the object_id instance will be the device_id \n",
    "# of the BACnet device at this address\n",
    "# you can use this to make further Read requests on the Name, Object list, and so on.\n",
    "print (reply.value.object_id.instance)"
   ]
  }
 ],
 "metadata": {
  "kernelspec": {
   "display_name": "Python 3 (ipykernel)",
   "language": "python",
   "name": "python3"
  },
  "language_info": {
   "codemirror_mode": {
    "name": "ipython",
    "version": 3
   },
   "file_extension": ".py",
   "mimetype": "text/x-python",
   "name": "python",
   "nbconvert_exporter": "python",
   "pygments_lexer": "ipython3",
   "version": "3.9.5"
  }
 },
 "nbformat": 4,
 "nbformat_minor": 5
}
