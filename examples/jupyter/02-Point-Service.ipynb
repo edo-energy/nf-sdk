{
 "cells": [
  {
   "cell_type": "markdown",
   "id": "e1ae2a95",
   "metadata": {},
   "source": [
    "Point Service\n",
    "===========\n",
    "\n",
    "The point service is the main database NF provides for finding and storing point-level metadata.  Using the points API, you can:\n",
    "\n",
    "* Find and edit automation points\n",
    "* Update metadata\n",
    "* Delete points\n",
    "* Retrieve timeseries data from points\n",
    "* Subscribe to streaming updates from both data and points to view changes to the database."
   ]
  },
  {
   "cell_type": "code",
   "execution_count": 2,
   "id": "e2fd7570",
   "metadata": {},
   "outputs": [],
   "source": [
    "import os\n",
    "import grpc\n",
    "import time\n",
    "from normalgw.hpl import point_pb2, point_pb2_grpc"
   ]
  },
  {
   "cell_type": "code",
   "execution_count": 3,
   "id": "ab334b55",
   "metadata": {},
   "outputs": [],
   "source": [
    "channel = grpc.insecure_channel(\"localhost:8080\")\n",
    "stub = point_pb2_grpc.PointManagerStub(channel)"
   ]
  },
  {
   "cell_type": "markdown",
   "id": "57adc794",
   "metadata": {},
   "source": [
    "GetPoints\n",
    "--------\n",
    "\n",
    "The `GetPoints` API provides paginated full-text search over your objects, based on RedisSearch.  "
   ]
  },
  {
   "cell_type": "code",
   "execution_count": 4,
   "id": "118c9732",
   "metadata": {
    "scrolled": true
   },
   "outputs": [],
   "source": [
    "points = stub.GetPoints(point_pb2.GetPointsRequest(query=\"ACCUMULATOR\", page_size=10))"
   ]
  },
  {
   "cell_type": "markdown",
   "id": "e68ac09a",
   "metadata": {},
   "source": [
    "DeletePoints\n",
    "---------\n",
    "\n",
    "`DeletePoints` removes all data from the database for the requested UUIDS, including time series data.  \n",
    "\n",
    "Use this instead of editing Redis directly in order to update the distinct attribute sets and to propertly generate update log entries, so downstream services can be notified of object changes."
   ]
  },
  {
   "cell_type": "code",
   "execution_count": 5,
   "id": "9265474f",
   "metadata": {},
   "outputs": [
    {
     "data": {
      "text/plain": []
     },
     "execution_count": 5,
     "metadata": {},
     "output_type": "execute_result"
    }
   ],
   "source": [
    "stub.DeletePoints(point_pb2.DeletePointsRequest(layer=\"hpl:bacnet:1\", uuids=[p.uuid for p in points.points]))"
   ]
  },
  {
   "cell_type": "markdown",
   "id": "9dd47a8e",
   "metadata": {},
   "source": [
    "GetDistinctAttrs\n",
    "------\n",
    "\n",
    "This API returns distinct values for attributes set on Point objects.  For instance, you can use this to retrieve the name of all objects in the database without needing to iterate over a large result set.   These sets are efficiently maintained in memory for fast querying."
   ]
  },
  {
   "cell_type": "code",
   "execution_count": 6,
   "id": "6111d3a1",
   "metadata": {},
   "outputs": [
    {
     "data": {
      "text/plain": [
       "attrs {\n",
       "  key: \"device_id\"\n",
       "}"
      ]
     },
     "execution_count": 6,
     "metadata": {},
     "output_type": "execute_result"
    }
   ],
   "source": [
    "stub.GetDistinctAttrs(point_pb2.GetDistinctAttrsRequest(attrs=[\"device_id\"]))\n"
   ]
  },
  {
   "cell_type": "markdown",
   "id": "1e1c6c22",
   "metadata": {},
   "source": [
    "GetData\n",
    "------ \n",
    "\n",
    "GetData retrieves timeseries data from the database.  The amount of data available and retention period depend on the system configuration.\n",
    "\n",
    "Currently the return type of all data is \"double\" due to limitations of RedisTimeseries; however this may change in the future.\n"
   ]
  },
  {
   "cell_type": "code",
   "execution_count": 6,
   "id": "5a4a5fd1",
   "metadata": {
    "scrolled": true
   },
   "outputs": [
    {
     "data": {
      "text/plain": [
       "data {\n",
       "  uuid: \"adfb7c41-0909-3dad-9981-b54ae8c907e3\"\n",
       "  values {\n",
       "    ts {\n",
       "      seconds: 1624459500\n",
       "    }\n",
       "    double: 0.0\n",
       "  }\n",
       "  values {\n",
       "    ts {\n",
       "      seconds: 1624459800\n",
       "    }\n",
       "    double: 0.0\n",
       "  }\n",
       "  values {\n",
       "    ts {\n",
       "      seconds: 1624460100\n",
       "    }\n",
       "    double: 0.0\n",
       "  }\n",
       "  values {\n",
       "    ts {\n",
       "      seconds: 1624460400\n",
       "    }\n",
       "    double: 0.0\n",
       "  }\n",
       "}\n",
       "data {\n",
       "  uuid: \"aa412cef-a8c4-31b6-ae4b-5a2e445ae5b5\"\n",
       "  values {\n",
       "    ts {\n",
       "      seconds: 1624459500\n",
       "    }\n",
       "    double: 0.0\n",
       "  }\n",
       "  values {\n",
       "    ts {\n",
       "      seconds: 1624459800\n",
       "    }\n",
       "    double: 0.0\n",
       "  }\n",
       "  values {\n",
       "    ts {\n",
       "      seconds: 1624460100\n",
       "    }\n",
       "    double: 0.0\n",
       "  }\n",
       "  values {\n",
       "    ts {\n",
       "      seconds: 1624460400\n",
       "    }\n",
       "    double: 0.0\n",
       "  }\n",
       "}\n",
       "data {\n",
       "  uuid: \"cb06ed24-4a99-3e6c-acb9-4edb81468bdc\"\n",
       "  values {\n",
       "    ts {\n",
       "      seconds: 1624459500\n",
       "    }\n",
       "    double: 0.0\n",
       "  }\n",
       "  values {\n",
       "    ts {\n",
       "      seconds: 1624459800\n",
       "    }\n",
       "    double: 0.0\n",
       "  }\n",
       "  values {\n",
       "    ts {\n",
       "      seconds: 1624460100\n",
       "    }\n",
       "    double: 0.0\n",
       "  }\n",
       "  values {\n",
       "    ts {\n",
       "      seconds: 1624460400\n",
       "    }\n",
       "    double: 0.0\n",
       "  }\n",
       "}\n",
       "data {\n",
       "  uuid: \"b0df8ff5-9c75-3384-a5d1-0cc44b912dcf\"\n",
       "  values {\n",
       "    ts {\n",
       "      seconds: 1624459500\n",
       "    }\n",
       "    double: 0.0\n",
       "  }\n",
       "  values {\n",
       "    ts {\n",
       "      seconds: 1624459800\n",
       "    }\n",
       "    double: 0.0\n",
       "  }\n",
       "  values {\n",
       "    ts {\n",
       "      seconds: 1624460100\n",
       "    }\n",
       "    double: 0.0\n",
       "  }\n",
       "}\n",
       "data {\n",
       "  uuid: \"a7055fc1-e0f4-38dc-94aa-fc5ae007bbdf\"\n",
       "  values {\n",
       "    ts {\n",
       "      seconds: 1624459500\n",
       "    }\n",
       "    double: 0.0\n",
       "  }\n",
       "  values {\n",
       "    ts {\n",
       "      seconds: 1624459800\n",
       "    }\n",
       "    double: 0.0\n",
       "  }\n",
       "  values {\n",
       "    ts {\n",
       "      seconds: 1624460100\n",
       "    }\n",
       "    double: 0.0\n",
       "  }\n",
       "  values {\n",
       "    ts {\n",
       "      seconds: 1624460400\n",
       "    }\n",
       "    double: 0.0\n",
       "  }\n",
       "}"
      ]
     },
     "execution_count": 6,
     "metadata": {},
     "output_type": "execute_result"
    }
   ],
   "source": [
    "# get a list of points you would like data for\n",
    "points = stub.GetPoints(point_pb2.GetPointsRequest(query=\"ANALOG VALUE\", page_size=10))\n",
    "now = time.time()\n",
    "\n",
    "# get data from the last hour, resampled to be every five minutes.\n",
    "request = point_pb2.GetDataRequest(**{\n",
    "    \"layer\": \"hpl:bacnet:1\",\n",
    "    \"uuids\": [p.uuid for p in points.points],\n",
    "    \"window\": {\"seconds\": 300},\n",
    "    \"from\": {\"seconds\": int(now) - 3600},\n",
    "    \"to\": {\"seconds\": int(now)},\n",
    "    \"method\": \"FIRST\"\n",
    "})\n",
    "stub.GetData(request)"
   ]
  }
 ],
 "metadata": {
  "kernelspec": {
   "display_name": "Python 3 (ipykernel)",
   "language": "python",
   "name": "python3"
  },
  "language_info": {
   "codemirror_mode": {
    "name": "ipython",
    "version": 3
   },
   "file_extension": ".py",
   "mimetype": "text/x-python",
   "name": "python",
   "nbconvert_exporter": "python",
   "pygments_lexer": "ipython3",
   "version": "3.9.5"
  }
 },
 "nbformat": 4,
 "nbformat_minor": 5
}
