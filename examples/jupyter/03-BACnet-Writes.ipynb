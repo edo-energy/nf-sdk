{
 "cells": [
  {
   "cell_type": "code",
   "execution_count": 1,
   "id": "complicated-contamination",
   "metadata": {},
   "outputs": [],
   "source": [
    "import os\n",
    "import grpc\n",
    "from normalgw.bacnet import bacnet_pb2, bacnet_pb2_grpc, bacenum_pb2"
   ]
  },
  {
   "cell_type": "code",
   "execution_count": 2,
   "id": "talented-innocent",
   "metadata": {},
   "outputs": [],
   "source": [
    "channel = grpc.insecure_channel(\"localhost:8080\")\n",
    "stub = bacnet_pb2_grpc.BacnetStub(channel)"
   ]
  },
  {
   "cell_type": "code",
   "execution_count": 3,
   "id": "historic-primary",
   "metadata": {
    "scrolled": true
   },
   "outputs": [
    {
     "name": "stdout",
     "output_type": "stream",
     "text": [
      "device_address {\n",
      "  device_id: 260001\n",
      "}\n",
      "property {\n",
      "  object_id {\n",
      "    object_type: OBJECT_DEVICE\n",
      "    instance: 260001\n",
      "  }\n",
      "  property_id: PROP_OBJECT_NAME\n",
      "  array_index: 4294967295\n",
      "}\n",
      "value {\n",
      "  character_string: \"I have written 51\"\n",
      "}\n",
      "\n"
     ]
    },
    {
     "data": {
      "text/plain": []
     },
     "execution_count": 3,
     "metadata": {},
     "output_type": "execute_result"
    }
   ],
   "source": [
    "req = bacnet_pb2.WritePropertyRequest()\n",
    "# use dynamic binding\n",
    "req.device_address.device_id = 260001\n",
    "req.property.object_id.object_type = bacenum_pb2.OBJECT_DEVICE\n",
    "req.property.object_id.instance = 260001\n",
    "req.property.property_id = bacenum_pb2.PROP_OBJECT_NAME\n",
    "req.value.character_string = \"I have written 51\"\n",
    "req.property.array_index = 2**32-1\n",
    "print (req)\n",
    "stub.WriteProperty(req)"
   ]
  },
  {
   "cell_type": "code",
   "execution_count": 5,
   "id": "ignored-blake",
   "metadata": {},
   "outputs": [
    {
     "data": {
      "text/plain": [
       "property {\n",
       "  object_id {\n",
       "    object_type: OBJECT_DEVICE\n",
       "    instance: 260001\n",
       "  }\n",
       "  property_id: PROP_DESCRIPTION\n",
       "  array_index: 4294967295\n",
       "}\n",
       "value {\n",
       "  character_string: \"NF Stack\"\n",
       "}"
      ]
     },
     "execution_count": 5,
     "metadata": {},
     "output_type": "execute_result"
    }
   ],
   "source": [
    "read = bacnet_pb2.ReadPropertyRequest()\n",
    "read.device_address.device_id = req.device_address.device_id\n",
    "read.object_id.object_type = req.property.object_id.object_type\n",
    "read.object_id.instance = req.property.object_id.instance\n",
    "read.property_id = bacenum_pb2.PROP_DESCRIPTION\n",
    "#req.property.property_id\n",
    "read.array_index = req.property.array_index\n",
    "read.options.priority = 1\n",
    "stub.ReadProperty(read)"
   ]
  }
 ],
 "metadata": {
  "kernelspec": {
   "display_name": "Python 3 (ipykernel)",
   "language": "python",
   "name": "python3"
  },
  "language_info": {
   "codemirror_mode": {
    "name": "ipython",
    "version": 3
   },
   "file_extension": ".py",
   "mimetype": "text/x-python",
   "name": "python",
   "nbconvert_exporter": "python",
   "pygments_lexer": "ipython3",
   "version": "3.9.5"
  }
 },
 "nbformat": 4,
 "nbformat_minor": 5
}
